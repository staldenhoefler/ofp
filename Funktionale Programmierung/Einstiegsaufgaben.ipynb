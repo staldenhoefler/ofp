{
 "cells": [
  {
   "cell_type": "code",
   "outputs": [],
   "source": [
    "from functools import reduce\n",
    "from typing import Callable"
   ],
   "metadata": {
    "collapsed": false,
    "ExecuteTime": {
     "end_time": "2024-02-27T13:13:55.181636200Z",
     "start_time": "2024-02-27T13:13:55.171472Z"
    }
   },
   "id": "dcaed370d83ec27b",
   "execution_count": 18
  },
  {
   "cell_type": "markdown",
   "source": [
    "# Anzahl Gerade"
   ],
   "metadata": {
    "collapsed": false
   },
   "id": "d4f0dea076726ed7"
  },
  {
   "cell_type": "code",
   "execution_count": 19,
   "id": "initial_id",
   "metadata": {
    "collapsed": true,
    "ExecuteTime": {
     "end_time": "2024-02-27T13:13:55.195115300Z",
     "start_time": "2024-02-27T13:13:55.188103Z"
    }
   },
   "outputs": [],
   "source": [
    "def anzahl_gerade(xs: list) -> int:\n",
    "    return reduce(lambda x, y: x + 1, list(filter(lambda x: x % 2 == 0, xs)), 0)"
   ]
  },
  {
   "cell_type": "code",
   "outputs": [
    {
     "data": {
      "text/plain": "5"
     },
     "execution_count": 20,
     "metadata": {},
     "output_type": "execute_result"
    }
   ],
   "source": [
    "anzahl_gerade([4, 3, 6, 32, 2, 1, 23, 4])"
   ],
   "metadata": {
    "collapsed": false,
    "ExecuteTime": {
     "end_time": "2024-02-27T13:13:55.228420600Z",
     "start_time": "2024-02-27T13:13:55.193115400Z"
    }
   },
   "id": "a8f8d2e8dd9f5443",
   "execution_count": 20
  },
  {
   "cell_type": "markdown",
   "source": [
    "# Curry"
   ],
   "metadata": {
    "collapsed": false
   },
   "id": "eb54a3a0ec2c68b7"
  },
  {
   "cell_type": "code",
   "outputs": [],
   "source": [
    "def curry(foo: Callable, *args):\n",
    "    return lambda *argsmore: foo(*args, *argsmore)"
   ],
   "metadata": {
    "collapsed": false,
    "ExecuteTime": {
     "end_time": "2024-02-27T13:45:27.010466800Z",
     "start_time": "2024-02-27T13:45:27.007459700Z"
    }
   },
   "id": "a9b407d10439ad7a",
   "execution_count": 64
  },
  {
   "cell_type": "code",
   "outputs": [
    {
     "data": {
      "text/plain": "6"
     },
     "execution_count": 65,
     "metadata": {},
     "output_type": "execute_result"
    }
   ],
   "source": [
    "def foo(a: int, b: int, c: int) -> int:\n",
    "    return a + b + c\n",
    "\n",
    "bar = curry(foo, 1)\n",
    "\n",
    "bar(2, 3)"
   ],
   "metadata": {
    "collapsed": false,
    "ExecuteTime": {
     "end_time": "2024-02-27T13:45:27.428776800Z",
     "start_time": "2024-02-27T13:45:27.421644800Z"
    }
   },
   "id": "fcab2d560e5c7187",
   "execution_count": 65
  },
  {
   "cell_type": "markdown",
   "source": [
    "# Mein Filter"
   ],
   "metadata": {
    "collapsed": false
   },
   "id": "72a7c9649459abbb"
  },
  {
   "cell_type": "code",
   "outputs": [],
   "source": [
    "def mein_filter(bedingung: Callable, xs: list) -> list:\n",
    "    return list(reduce(lambda x, y: x + [y] if bedingung(y) else x, xs, []))"
   ],
   "metadata": {
    "collapsed": false,
    "ExecuteTime": {
     "end_time": "2024-02-27T13:57:10.487395200Z",
     "start_time": "2024-02-27T13:57:10.482387300Z"
    }
   },
   "id": "223ff4f704a66b66",
   "execution_count": 88
  },
  {
   "cell_type": "code",
   "outputs": [
    {
     "data": {
      "text/plain": "[4, 6, 32, 2, 8]"
     },
     "execution_count": 89,
     "metadata": {},
     "output_type": "execute_result"
    }
   ],
   "source": [
    "mein_filter(lambda x: x%2 == 0, [4, 3, 6, 32, 2, 1, 23, 8])"
   ],
   "metadata": {
    "collapsed": false,
    "ExecuteTime": {
     "end_time": "2024-02-27T13:57:11.073719Z",
     "start_time": "2024-02-27T13:57:11.061911600Z"
    }
   },
   "id": "8fcb12ab03a9382b",
   "execution_count": 89
  }
 ],
 "metadata": {
  "kernelspec": {
   "display_name": "Python 3",
   "language": "python",
   "name": "python3"
  },
  "language_info": {
   "codemirror_mode": {
    "name": "ipython",
    "version": 2
   },
   "file_extension": ".py",
   "mimetype": "text/x-python",
   "name": "python",
   "nbconvert_exporter": "python",
   "pygments_lexer": "ipython2",
   "version": "2.7.6"
  }
 },
 "nbformat": 4,
 "nbformat_minor": 5
}

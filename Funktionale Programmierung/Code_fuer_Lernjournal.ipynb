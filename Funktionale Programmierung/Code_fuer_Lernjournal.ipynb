{
 "cells": [
  {
   "cell_type": "code",
   "execution_count": 7,
   "id": "initial_id",
   "metadata": {
    "collapsed": true,
    "ExecuteTime": {
     "end_time": "2024-05-17T13:06:27.811820200Z",
     "start_time": "2024-05-17T13:06:27.789899900Z"
    }
   },
   "outputs": [
    {
     "name": "stdout",
     "output_type": "stream",
     "text": [
      "For-Loop:[2, 4, 6, 8, 10]\n",
      "Funktional:[2, 4, 6, 8, 10]\n",
      "Comprehension:[2, 4, 6, 8, 10]\n"
     ]
    }
   ],
   "source": [
    "def ist_gerade(liste):\n",
    "    liste_gerade = []\n",
    "    for i in liste:\n",
    "        if i % 2 == 0:\n",
    "            liste_gerade.append(i)\n",
    "    return liste_gerade\n",
    "def ist_gerade_functional(liste):\n",
    "    return filter(lambda x: x % 2 == 0, liste)\n",
    "\n",
    "def ist_gerade_comprehension(liste):\n",
    "    return [i for i in liste if i % 2 == 0]\n",
    "\n",
    "liste = [1, 2, 3, 4, 5, 6, 7, 8, 9, 10]\n",
    "print(f'For-Loop:{ist_gerade(liste)}')\n",
    "print(f'Funktional:{list(ist_gerade_functional(liste))}')\n",
    "print(f'Comprehension:{ist_gerade_comprehension(liste)}')"
   ]
  },
  {
   "cell_type": "code",
   "outputs": [
    {
     "name": "stdout",
     "output_type": "stream",
     "text": [
      "55\n"
     ]
    }
   ],
   "source": [
    "from functools import reduce\n",
    "def summe(xs: list) -> int:\n",
    "    return reduce(lambda x, y: x + y, xs, 0)\n",
    "\n",
    "liste = [1, 2, 3, 4, 5, 6, 7, 8, 9, 10]\n",
    "print(summe(liste))"
   ],
   "metadata": {
    "collapsed": false,
    "ExecuteTime": {
     "end_time": "2024-05-17T13:37:16.051165800Z",
     "start_time": "2024-05-17T13:37:16.047134200Z"
    }
   },
   "id": "de28ad371fc9d641",
   "execution_count": 9
  },
  {
   "cell_type": "code",
   "outputs": [
    {
     "data": {
      "text/plain": "[1, 4, 9, 16, 25, 36, 49, 64, 81, 100]"
     },
     "execution_count": 11,
     "metadata": {},
     "output_type": "execute_result"
    }
   ],
   "source": [
    "liste = [1, 2, 3, 4, 5, 6, 7, 8, 9, 10]\n",
    "list(map(lambda x: x ** 2, liste))"
   ],
   "metadata": {
    "collapsed": false,
    "ExecuteTime": {
     "end_time": "2024-05-17T14:29:27.779456Z",
     "start_time": "2024-05-17T14:29:27.769545500Z"
    }
   },
   "id": "d74623bef33f85a6",
   "execution_count": 11
  },
  {
   "cell_type": "code",
   "outputs": [
    {
     "name": "stdout",
     "output_type": "stream",
     "text": [
      "8\n"
     ]
    }
   ],
   "source": [
    "def hoch(x: int) -> int:\n",
    "    def hoch_x(y: int) -> int:\n",
    "        return y ** x\n",
    "    return hoch_x\n",
    "\n",
    "hoch_3 = hoch(3)\n",
    "print(hoch_3(2))"
   ],
   "metadata": {
    "collapsed": false,
    "ExecuteTime": {
     "end_time": "2024-05-17T14:46:55.270331100Z",
     "start_time": "2024-05-17T14:46:55.262918400Z"
    }
   },
   "id": "9740c1ab8d30d8ec",
   "execution_count": 12
  },
  {
   "cell_type": "code",
   "outputs": [
    {
     "name": "stdout",
     "output_type": "stream",
     "text": [
      "[1, 4, 9, 16, 25, 36, 49, 64, 81, 100]\n",
      "[2, 4, 6, 8, 10]\n"
     ]
    }
   ],
   "source": [
    "nummern = [1, 2, 3, 4, 5, 6, 7, 8, 9, 10]\n",
    "\n",
    "quadratisch = list(map(lambda x: x ** 2, nummern))\n",
    "print(quadratisch)\n",
    "\n",
    "gerade = list(filter(lambda x: x % 2 == 0, nummern))\n",
    "print(gerade)\n"
   ],
   "metadata": {
    "collapsed": false,
    "ExecuteTime": {
     "end_time": "2024-06-18T12:21:41.938337600Z",
     "start_time": "2024-06-18T12:21:41.927149700Z"
    }
   },
   "id": "7d375f5482765b0e",
   "execution_count": 1
  },
  {
   "cell_type": "code",
   "outputs": [
    {
     "name": "stdout",
     "output_type": "stream",
     "text": [
      "[1, 4, 9, 16, 25, 36, 49, 64, 81, 100]\n"
     ]
    }
   ],
   "source": [
    "nummern = [1, 2, 3, 4, 5, 6, 7, 8, 9, 10]\n",
    "quadratisch = lambda x: x ** 2\n",
    "print(list(map(quadratisch, nummern)))"
   ],
   "metadata": {
    "collapsed": false,
    "ExecuteTime": {
     "end_time": "2024-06-18T12:27:45.622888600Z",
     "start_time": "2024-06-18T12:27:45.617884100Z"
    }
   },
   "id": "bcf926a5eae16659",
   "execution_count": 2
  },
  {
   "cell_type": "code",
   "outputs": [
    {
     "name": "stdout",
     "output_type": "stream",
     "text": [
      "[1, 4, 9, 16, 25, 36, 49, 64, 81, 100]\n"
     ]
    }
   ],
   "source": [
    "def quadratisch_func(x: int) -> int:\n",
    "    return x ** 2\n",
    "\n",
    "nummern = [1, 2, 3, 4, 5, 6, 7, 8, 9, 10]\n",
    "print(list(map(quadratisch_func, nummern)))"
   ],
   "metadata": {
    "collapsed": false,
    "ExecuteTime": {
     "end_time": "2024-06-18T12:28:19.653436900Z",
     "start_time": "2024-06-18T12:28:19.638633900Z"
    }
   },
   "id": "91e2325b22046821",
   "execution_count": 5
  },
  {
   "cell_type": "code",
   "outputs": [
    {
     "name": "stdout",
     "output_type": "stream",
     "text": [
      "1\n",
      "2\n",
      "3\n",
      "4\n",
      "5\n",
      "6\n",
      "7\n",
      "8\n",
      "9\n",
      "10\n"
     ]
    }
   ],
   "source": [
    "nummern = [1, 2, 3, 4, 5, 6, 7, 8, 9, 10]\n",
    "for i in range(0, len(nummern)):\n",
    "    print(nummern[i])"
   ],
   "metadata": {
    "collapsed": false,
    "ExecuteTime": {
     "end_time": "2024-06-18T12:59:16.998978600Z",
     "start_time": "2024-06-18T12:59:16.942649100Z"
    }
   },
   "id": "a52bd4df854f9c6",
   "execution_count": 6
  },
  {
   "cell_type": "code",
   "outputs": [
    {
     "name": "stdout",
     "output_type": "stream",
     "text": [
      "1\n",
      "2\n",
      "3\n",
      "4\n",
      "5\n",
      "6\n",
      "7\n",
      "8\n",
      "9\n",
      "10\n"
     ]
    }
   ],
   "source": [
    "nummern = [1, 2, 3, 4, 5, 6, 7, 8, 9, 10]\n",
    "for nummer in nummern:\n",
    "    print(nummer)"
   ],
   "metadata": {
    "collapsed": false,
    "ExecuteTime": {
     "end_time": "2024-06-18T12:59:34.582942600Z",
     "start_time": "2024-06-18T12:59:34.577659100Z"
    }
   },
   "id": "49627d806e0d76cf",
   "execution_count": 7
  },
  {
   "cell_type": "code",
   "outputs": [],
   "source": [
    "class Test:\n",
    "    def __init__(self, liste):\n",
    "        self.liste = liste\n",
    "\n",
    "    def __iter__(self):\n",
    "        return iter(self.liste)"
   ],
   "metadata": {
    "collapsed": false,
    "ExecuteTime": {
     "end_time": "2024-06-18T13:02:51.394233100Z",
     "start_time": "2024-06-18T13:02:51.391225900Z"
    }
   },
   "id": "19156ca09d8040cb",
   "execution_count": 9
  },
  {
   "cell_type": "code",
   "outputs": [
    {
     "name": "stdout",
     "output_type": "stream",
     "text": [
      "1\n",
      "2\n",
      "3\n",
      "4\n",
      "5\n",
      "6\n",
      "7\n",
      "8\n",
      "9\n",
      "10\n"
     ]
    }
   ],
   "source": [
    "test = Test([1, 2, 3, 4, 5, 6, 7, 8, 9, 10])\n",
    "for i in test:\n",
    "    print(i)"
   ],
   "metadata": {
    "collapsed": false,
    "ExecuteTime": {
     "end_time": "2024-06-18T13:02:53.347333400Z",
     "start_time": "2024-06-18T13:02:53.341821400Z"
    }
   },
   "id": "9bde7b0cb1d01a7e",
   "execution_count": 10
  },
  {
   "cell_type": "code",
   "outputs": [
    {
     "name": "stdout",
     "output_type": "stream",
     "text": [
      "Size in bites: 216\n",
      "0\n",
      "1\n",
      "1\n",
      "2\n",
      "3\n",
      "5\n",
      "8\n",
      "13\n",
      "21\n",
      "34\n",
      "55\n",
      "89\n",
      "144\n",
      "233\n",
      "377\n",
      "610\n",
      "987\n",
      "1597\n",
      "2584\n",
      "4181\n",
      "6765\n",
      "10946\n",
      "17711\n",
      "28657\n",
      "46368\n",
      "75025\n",
      "121393\n",
      "196418\n",
      "317811\n",
      "514229\n",
      "832040\n",
      "1346269\n",
      "2178309\n",
      "3524578\n",
      "5702887\n",
      "9227465\n",
      "14930352\n",
      "24157817\n",
      "39088169\n",
      "63245986\n",
      "102334155\n",
      "165580141\n",
      "267914296\n",
      "433494437\n",
      "701408733\n",
      "1134903170\n",
      "1836311903\n",
      "2971215073\n",
      "4807526976\n",
      "7778742049\n",
      "12586269025\n",
      "20365011074\n",
      "32951280099\n",
      "53316291173\n",
      "86267571272\n",
      "139583862445\n",
      "225851433717\n",
      "365435296162\n",
      "591286729879\n",
      "956722026041\n",
      "1548008755920\n",
      "2504730781961\n",
      "4052739537881\n",
      "6557470319842\n",
      "10610209857723\n",
      "17167680177565\n",
      "27777890035288\n",
      "44945570212853\n",
      "72723460248141\n",
      "117669030460994\n",
      "190392490709135\n",
      "308061521170129\n",
      "498454011879264\n",
      "806515533049393\n",
      "1304969544928657\n",
      "2111485077978050\n",
      "3416454622906707\n",
      "5527939700884757\n",
      "8944394323791464\n",
      "14472334024676221\n",
      "23416728348467685\n",
      "37889062373143906\n",
      "61305790721611591\n",
      "99194853094755497\n",
      "160500643816367088\n",
      "259695496911122585\n",
      "420196140727489673\n",
      "679891637638612258\n",
      "1100087778366101931\n",
      "1779979416004714189\n",
      "2880067194370816120\n",
      "4660046610375530309\n",
      "7540113804746346429\n",
      "12200160415121876738\n",
      "19740274219868223167\n",
      "31940434634990099905\n",
      "51680708854858323072\n",
      "83621143489848422977\n"
     ]
    }
   ],
   "source": [
    "import sys\n",
    "def fibonacci(max):\n",
    "    a, b = 0, 1\n",
    "    while a < max:\n",
    "        yield a\n",
    "        a, b = b, a + b\n",
    "\n",
    "fib_gen = fibonacci(100000000000000000000)\n",
    "print(f'Size in bytes: {sys.getsizeof(fib_gen)}')\n",
    "for number in fib_gen:\n",
    "    print(number)"
   ],
   "metadata": {
    "collapsed": false,
    "ExecuteTime": {
     "end_time": "2024-06-18T14:38:28.053809100Z",
     "start_time": "2024-06-18T14:38:28.036761400Z"
    }
   },
   "id": "afb99be3b516bf57",
   "execution_count": 27
  },
  {
   "cell_type": "code",
   "outputs": [
    {
     "name": "stdout",
     "output_type": "stream",
     "text": [
      "Size in bites: 920\n",
      "[0, 1, 1, 2, 3, 5, 8, 13, 21, 34, 55, 89, 144, 233, 377, 610, 987, 1597, 2584, 4181, 6765, 10946, 17711, 28657, 46368, 75025, 121393, 196418, 317811, 514229, 832040, 1346269, 2178309, 3524578, 5702887, 9227465, 14930352, 24157817, 39088169, 63245986, 102334155, 165580141, 267914296, 433494437, 701408733, 1134903170, 1836311903, 2971215073, 4807526976, 7778742049, 12586269025, 20365011074, 32951280099, 53316291173, 86267571272, 139583862445, 225851433717, 365435296162, 591286729879, 956722026041, 1548008755920, 2504730781961, 4052739537881, 6557470319842, 10610209857723, 17167680177565, 27777890035288, 44945570212853, 72723460248141, 117669030460994, 190392490709135, 308061521170129, 498454011879264, 806515533049393, 1304969544928657, 2111485077978050, 3416454622906707, 5527939700884757, 8944394323791464, 14472334024676221, 23416728348467685, 37889062373143906, 61305790721611591, 99194853094755497, 160500643816367088, 259695496911122585, 420196140727489673, 679891637638612258, 1100087778366101931, 1779979416004714189, 2880067194370816120, 4660046610375530309, 7540113804746346429, 12200160415121876738, 19740274219868223167, 31940434634990099905, 51680708854858323072, 83621143489848422977]\n"
     ]
    }
   ],
   "source": [
    "import sys\n",
    "def fibonacci_list(max):\n",
    "    sequence = [0, 1]\n",
    "    while True:\n",
    "        next_value = sequence[-1] + sequence[-2]\n",
    "        if next_value < max:\n",
    "            sequence.append(next_value)\n",
    "        else:\n",
    "            break\n",
    "    return sequence\n",
    "\n",
    "max_limit = 100000000000000000000\n",
    "fib_sequence = fibonacci_list(max_limit)\n",
    "print(f'Size in bytes: {sys.getsizeof(fib_sequence)}')\n",
    "print(fib_sequence)\n"
   ],
   "metadata": {
    "collapsed": false,
    "ExecuteTime": {
     "end_time": "2024-06-18T14:38:28.098315500Z",
     "start_time": "2024-06-18T14:38:28.058811200Z"
    }
   },
   "id": "22d7e2fc738d775b",
   "execution_count": 28
  },
  {
   "cell_type": "code",
   "outputs": [],
   "source": [],
   "metadata": {
    "collapsed": false,
    "ExecuteTime": {
     "end_time": "2024-06-18T14:38:28.100319900Z",
     "start_time": "2024-06-18T14:38:28.076202700Z"
    }
   },
   "id": "22766b40ec56b7e6",
   "execution_count": 28
  }
 ],
 "metadata": {
  "kernelspec": {
   "display_name": "Python 3",
   "language": "python",
   "name": "python3"
  },
  "language_info": {
   "codemirror_mode": {
    "name": "ipython",
    "version": 2
   },
   "file_extension": ".py",
   "mimetype": "text/x-python",
   "name": "python",
   "nbconvert_exporter": "python",
   "pygments_lexer": "ipython2",
   "version": "2.7.6"
  }
 },
 "nbformat": 4,
 "nbformat_minor": 5
}

{
 "cells": [
  {
   "cell_type": "code",
   "execution_count": 7,
   "id": "initial_id",
   "metadata": {
    "collapsed": true,
    "ExecuteTime": {
     "end_time": "2024-05-17T13:06:27.811820200Z",
     "start_time": "2024-05-17T13:06:27.789899900Z"
    }
   },
   "outputs": [
    {
     "name": "stdout",
     "output_type": "stream",
     "text": [
      "For-Loop:[2, 4, 6, 8, 10]\n",
      "Funktional:[2, 4, 6, 8, 10]\n",
      "Comprehension:[2, 4, 6, 8, 10]\n"
     ]
    }
   ],
   "source": [
    "def ist_gerade(liste):\n",
    "    liste_gerade = []\n",
    "    for i in liste:\n",
    "        if i % 2 == 0:\n",
    "            liste_gerade.append(i)\n",
    "    return liste_gerade\n",
    "def ist_gerade_functional(liste):\n",
    "    return filter(lambda x: x % 2 == 0, liste)\n",
    "\n",
    "def ist_gerade_comprehension(liste):\n",
    "    return [i for i in liste if i % 2 == 0]\n",
    "\n",
    "liste = [1, 2, 3, 4, 5, 6, 7, 8, 9, 10]\n",
    "print(f'For-Loop:{ist_gerade(liste)}')\n",
    "print(f'Funktional:{list(ist_gerade_functional(liste))}')\n",
    "print(f'Comprehension:{ist_gerade_comprehension(liste)}')"
   ]
  },
  {
   "cell_type": "code",
   "outputs": [
    {
     "name": "stdout",
     "output_type": "stream",
     "text": [
      "55\n"
     ]
    }
   ],
   "source": [
    "from functools import reduce\n",
    "def summe(xs: list) -> int:\n",
    "    return reduce(lambda x, y: x + y, xs, 0)\n",
    "\n",
    "liste = [1, 2, 3, 4, 5, 6, 7, 8, 9, 10]\n",
    "print(summe(liste))"
   ],
   "metadata": {
    "collapsed": false,
    "ExecuteTime": {
     "end_time": "2024-05-17T13:37:16.051165800Z",
     "start_time": "2024-05-17T13:37:16.047134200Z"
    }
   },
   "id": "de28ad371fc9d641",
   "execution_count": 9
  },
  {
   "cell_type": "code",
   "outputs": [
    {
     "data": {
      "text/plain": "[1, 4, 9, 16, 25, 36, 49, 64, 81, 100]"
     },
     "execution_count": 11,
     "metadata": {},
     "output_type": "execute_result"
    }
   ],
   "source": [
    "liste = [1, 2, 3, 4, 5, 6, 7, 8, 9, 10]\n",
    "list(map(lambda x: x ** 2, liste))"
   ],
   "metadata": {
    "collapsed": false,
    "ExecuteTime": {
     "end_time": "2024-05-17T14:29:27.779456Z",
     "start_time": "2024-05-17T14:29:27.769545500Z"
    }
   },
   "id": "d74623bef33f85a6",
   "execution_count": 11
  },
  {
   "cell_type": "code",
   "outputs": [
    {
     "name": "stdout",
     "output_type": "stream",
     "text": [
      "8\n"
     ]
    }
   ],
   "source": [
    "def hoch(x: int) -> int:\n",
    "    def hoch_x(y: int) -> int:\n",
    "        return y ** x\n",
    "    return hoch_x\n",
    "\n",
    "hoch_3 = hoch(3)\n",
    "print(hoch_3(2))"
   ],
   "metadata": {
    "collapsed": false,
    "ExecuteTime": {
     "end_time": "2024-05-17T14:46:55.270331100Z",
     "start_time": "2024-05-17T14:46:55.262918400Z"
    }
   },
   "id": "9740c1ab8d30d8ec",
   "execution_count": 12
  },
  {
   "cell_type": "code",
   "outputs": [
    {
     "name": "stdout",
     "output_type": "stream",
     "text": [
      "[1, 4, 9, 16, 25, 36, 49, 64, 81, 100]\n",
      "[2, 4, 6, 8, 10]\n"
     ]
    }
   ],
   "source": [
    "nummern = [1, 2, 3, 4, 5, 6, 7, 8, 9, 10]\n",
    "\n",
    "quadratisch = list(map(lambda x: x ** 2, nummern))\n",
    "print(quadratisch)\n",
    "\n",
    "gerade = list(filter(lambda x: x % 2 == 0, nummern))\n",
    "print(gerade)\n"
   ],
   "metadata": {
    "collapsed": false,
    "ExecuteTime": {
     "end_time": "2024-06-18T12:21:41.938337600Z",
     "start_time": "2024-06-18T12:21:41.927149700Z"
    }
   },
   "id": "7d375f5482765b0e",
   "execution_count": 1
  },
  {
   "cell_type": "code",
   "outputs": [
    {
     "name": "stdout",
     "output_type": "stream",
     "text": [
      "[1, 4, 9, 16, 25, 36, 49, 64, 81, 100]\n"
     ]
    }
   ],
   "source": [
    "nummern = [1, 2, 3, 4, 5, 6, 7, 8, 9, 10]\n",
    "quadratisch = lambda x: x ** 2\n",
    "print(list(map(quadratisch, nummern)))"
   ],
   "metadata": {
    "collapsed": false,
    "ExecuteTime": {
     "end_time": "2024-06-18T12:27:45.622888600Z",
     "start_time": "2024-06-18T12:27:45.617884100Z"
    }
   },
   "id": "bcf926a5eae16659",
   "execution_count": 2
  },
  {
   "cell_type": "code",
   "outputs": [
    {
     "name": "stdout",
     "output_type": "stream",
     "text": [
      "[1, 4, 9, 16, 25, 36, 49, 64, 81, 100]\n"
     ]
    }
   ],
   "source": [
    "def quadratisch_func(x: int) -> int:\n",
    "    return x ** 2\n",
    "\n",
    "nummern = [1, 2, 3, 4, 5, 6, 7, 8, 9, 10]\n",
    "print(list(map(quadratisch_func, nummern)))"
   ],
   "metadata": {
    "collapsed": false,
    "ExecuteTime": {
     "end_time": "2024-06-18T12:28:19.653436900Z",
     "start_time": "2024-06-18T12:28:19.638633900Z"
    }
   },
   "id": "91e2325b22046821",
   "execution_count": 5
  },
  {
   "cell_type": "code",
   "outputs": [
    {
     "name": "stdout",
     "output_type": "stream",
     "text": [
      "1\n",
      "2\n",
      "3\n",
      "4\n",
      "5\n",
      "6\n",
      "7\n",
      "8\n",
      "9\n",
      "10\n"
     ]
    }
   ],
   "source": [
    "nummern = [1, 2, 3, 4, 5, 6, 7, 8, 9, 10]\n",
    "for i in range(0, len(nummern)):\n",
    "    print(nummern[i])"
   ],
   "metadata": {
    "collapsed": false,
    "ExecuteTime": {
     "end_time": "2024-06-18T12:59:16.998978600Z",
     "start_time": "2024-06-18T12:59:16.942649100Z"
    }
   },
   "id": "a52bd4df854f9c6",
   "execution_count": 6
  },
  {
   "cell_type": "code",
   "outputs": [
    {
     "name": "stdout",
     "output_type": "stream",
     "text": [
      "1\n",
      "2\n",
      "3\n",
      "4\n",
      "5\n",
      "6\n",
      "7\n",
      "8\n",
      "9\n",
      "10\n"
     ]
    }
   ],
   "source": [
    "nummern = [1, 2, 3, 4, 5, 6, 7, 8, 9, 10]\n",
    "for nummer in nummern:\n",
    "    print(nummer)"
   ],
   "metadata": {
    "collapsed": false,
    "ExecuteTime": {
     "end_time": "2024-06-18T12:59:34.582942600Z",
     "start_time": "2024-06-18T12:59:34.577659100Z"
    }
   },
   "id": "49627d806e0d76cf",
   "execution_count": 7
  },
  {
   "cell_type": "code",
   "outputs": [],
   "source": [
    "class Test:\n",
    "    def __init__(self, liste):\n",
    "        self.liste = liste\n",
    "\n",
    "    def __iter__(self):\n",
    "        return iter(self.liste)"
   ],
   "metadata": {
    "collapsed": false,
    "ExecuteTime": {
     "end_time": "2024-06-18T13:02:51.394233100Z",
     "start_time": "2024-06-18T13:02:51.391225900Z"
    }
   },
   "id": "19156ca09d8040cb",
   "execution_count": 9
  },
  {
   "cell_type": "code",
   "outputs": [
    {
     "name": "stdout",
     "output_type": "stream",
     "text": [
      "1\n",
      "2\n",
      "3\n",
      "4\n",
      "5\n",
      "6\n",
      "7\n",
      "8\n",
      "9\n",
      "10\n"
     ]
    }
   ],
   "source": [
    "test = Test([1, 2, 3, 4, 5, 6, 7, 8, 9, 10])\n",
    "for i in test:\n",
    "    print(i)"
   ],
   "metadata": {
    "collapsed": false,
    "ExecuteTime": {
     "end_time": "2024-06-18T13:02:53.347333400Z",
     "start_time": "2024-06-18T13:02:53.341821400Z"
    }
   },
   "id": "9bde7b0cb1d01a7e",
   "execution_count": 10
  }
 ],
 "metadata": {
  "kernelspec": {
   "display_name": "Python 3",
   "language": "python",
   "name": "python3"
  },
  "language_info": {
   "codemirror_mode": {
    "name": "ipython",
    "version": 2
   },
   "file_extension": ".py",
   "mimetype": "text/x-python",
   "name": "python",
   "nbconvert_exporter": "python",
   "pygments_lexer": "ipython2",
   "version": "2.7.6"
  }
 },
 "nbformat": 4,
 "nbformat_minor": 5
}
